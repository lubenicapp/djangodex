{
 "cells": [
  {
   "cell_type": "code",
   "execution_count": 1,
   "id": "355c54a0",
   "metadata": {},
   "outputs": [
    {
     "name": "stdout",
     "output_type": "stream",
     "text": [
      "Defaulting to user installation because normal site-packages is not writeable\n",
      "Requirement already satisfied: requests in /home/vo/.local/lib/python3.10/site-packages (2.31.0)\n",
      "Requirement already satisfied: charset-normalizer<4,>=2 in /home/vo/.local/lib/python3.10/site-packages (from requests) (3.1.0)\n",
      "Requirement already satisfied: urllib3<3,>=1.21.1 in /usr/lib/python3/dist-packages (from requests) (1.26.5)\n",
      "Requirement already satisfied: idna<4,>=2.5 in /home/vo/.local/lib/python3.10/site-packages (from requests) (3.4)\n",
      "Requirement already satisfied: certifi>=2017.4.17 in /home/vo/.local/lib/python3.10/site-packages (from requests) (2022.12.7)\n",
      "Note: you may need to restart the kernel to use updated packages.\n"
     ]
    }
   ],
   "source": [
    "%pip install requests"
   ]
  },
  {
   "cell_type": "code",
   "execution_count": 2,
   "id": "6c37fedd",
   "metadata": {},
   "outputs": [],
   "source": [
    "import requests"
   ]
  },
  {
   "cell_type": "code",
   "execution_count": 3,
   "id": "7982d964",
   "metadata": {},
   "outputs": [],
   "source": [
    "url = \"http://127.0.0.1:8000/pokemon/create\""
   ]
  },
  {
   "cell_type": "markdown",
   "id": "5db57938",
   "metadata": {},
   "source": [
    "Creation d'un pokemon"
   ]
  },
  {
   "cell_type": "code",
   "execution_count": 4,
   "id": "bd2b83c8",
   "metadata": {},
   "outputs": [],
   "source": [
    "payload = {\n",
    "    \"pokedex_creature_id\": 15,\n",
    "    \"nickname\": \"zorin\",\n",
    "    \"level\": 10,\n",
    "    \"experience\": 100,\n",
    "    \"trainer_id\": 1\n",
    "}\n",
    "\n",
    "response = requests.post(url, json=payload)"
   ]
  },
  {
   "cell_type": "markdown",
   "id": "8570adbf",
   "metadata": {},
   "source": [
    "Id du pokemon créé"
   ]
  },
  {
   "cell_type": "code",
   "execution_count": 5,
   "id": "d213430f",
   "metadata": {},
   "outputs": [
    {
     "data": {
      "text/plain": [
       "'4'"
      ]
     },
     "execution_count": 5,
     "metadata": {},
     "output_type": "execute_result"
    }
   ],
   "source": [
    "response.content.decode()"
   ]
  },
  {
   "cell_type": "code",
   "execution_count": 6,
   "id": "1e0207ea",
   "metadata": {},
   "outputs": [],
   "source": [
    "created_pokemon_id = response.content.decode()"
   ]
  },
  {
   "cell_type": "markdown",
   "id": "b3a68142",
   "metadata": {},
   "source": [
    "Don d'xp a un pokemon"
   ]
  },
  {
   "cell_type": "code",
   "execution_count": 8,
   "id": "39141b76",
   "metadata": {},
   "outputs": [],
   "source": [
    "url = f\"http://0.0.0.0:8000/pokemon/{created_pokemon_id}/give-xp\""
   ]
  },
  {
   "cell_type": "code",
   "execution_count": 9,
   "id": "77df875a",
   "metadata": {},
   "outputs": [],
   "source": [
    "payload = {\n",
    "    \"amount\": 450\n",
    "}\n",
    "\n",
    "response = requests.post(url, json=payload)"
   ]
  },
  {
   "cell_type": "markdown",
   "id": "68d461d0",
   "metadata": {},
   "source": [
    "Experience totale après don"
   ]
  },
  {
   "cell_type": "code",
   "execution_count": 10,
   "id": "a0c4a53c",
   "metadata": {},
   "outputs": [
    {
     "data": {
      "text/plain": [
       "'550'"
      ]
     },
     "execution_count": 10,
     "metadata": {},
     "output_type": "execute_result"
    }
   ],
   "source": [
    "response.content.decode()"
   ]
  },
  {
   "cell_type": "code",
   "execution_count": null,
   "id": "a4d741fb",
   "metadata": {},
   "outputs": [],
   "source": []
  }
 ],
 "metadata": {
  "kernelspec": {
   "display_name": "Python 3 (ipykernel)",
   "language": "python",
   "name": "python3"
  },
  "language_info": {
   "codemirror_mode": {
    "name": "ipython",
    "version": 3
   },
   "file_extension": ".py",
   "mimetype": "text/x-python",
   "name": "python",
   "nbconvert_exporter": "python",
   "pygments_lexer": "ipython3",
   "version": "3.10.6"
  }
 },
 "nbformat": 4,
 "nbformat_minor": 5
}
